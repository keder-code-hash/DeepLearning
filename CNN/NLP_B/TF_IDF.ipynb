{
 "cells": [
  {
   "cell_type": "code",
   "execution_count": 18,
   "metadata": {},
   "outputs": [],
   "source": [
    "# entailment\n",
    "sentence1=\"Two young children in blue jerseys, one with the number 9 and one with the number 2 are standing on wooden steps in a bathroom and washing their hands in a sink.\"\n",
    "sentence2=\"Two kids in numbered jerseys wash their hands.\"\n",
    "\n",
    "# contradiction\n",
    "sentence3=\"Two young children in blue jerseys, one with the number 9 and one with the number 2 are standing on wooden steps in a bathroom and washing their hands in a sink.\"\n",
    "sentence4=\"Two kids in jackets walk to school.\"\n",
    "\n",
    "# contradiction\n",
    "sentence5=\"A woman is doing a cartwheel while wearing a bikini in the sand next to the beach.\"\n",
    "sentence6=\"A woman is doing a cartwheel and falls on her head.\"\n",
    "\n",
    "docs=[sentence1,sentence2,sentence3,sentence4,sentence5,sentence6]"
   ]
  },
  {
   "cell_type": "code",
   "execution_count": 40,
   "metadata": {},
   "outputs": [],
   "source": [
    "from sklearn.feature_extraction.text import  TfidfVectorizer\n",
    "from sklearn.metrics.pairwise import cosine_similarity\n",
    "import pandas as pd\n",
    "\n",
    "tokens=lambda d:d.lower().split(\" \") \n",
    "\n",
    "vectorizer=TfidfVectorizer(ngram_range=(1, 1), max_df=1.0, min_df=0, norm='l2', use_idf=True, smooth_idf=True,sublinear_tf=True,tokenizer=tokens)\n",
    "\n",
    "vector=vectorizer.fit_transform(docs)\n",
    "feature_names=vectorizer.get_feature_names_out()\n",
    "\n",
    "\n",
    "result=vector.todense().tolist() \n",
    "\n",
    "# cosine similarity\n",
    "\n",
    "cosine_similar=cosine_similarity(result)\n",
    "\n",
    "cosine_similar\n",
    "\n",
    "df = pd.DataFrame(cosine_similar, columns=['sentence1','sentence2','sentence3','sentence4','sentence5','sentence6'],index=['sentence1','sentence2','sentence3','sentence4','sentence5','sentence6'])"
   ]
  },
  {
   "cell_type": "code",
   "execution_count": 42,
   "metadata": {},
   "outputs": [
    {
     "data": {
      "text/html": [
       "<div>\n",
       "<style scoped>\n",
       "    .dataframe tbody tr th:only-of-type {\n",
       "        vertical-align: middle;\n",
       "    }\n",
       "\n",
       "    .dataframe tbody tr th {\n",
       "        vertical-align: top;\n",
       "    }\n",
       "\n",
       "    .dataframe thead th {\n",
       "        text-align: right;\n",
       "    }\n",
       "</style>\n",
       "<table border=\"1\" class=\"dataframe\">\n",
       "  <thead>\n",
       "    <tr style=\"text-align: right;\">\n",
       "      <th></th>\n",
       "      <th>sentence1</th>\n",
       "      <th>sentence2</th>\n",
       "      <th>sentence3</th>\n",
       "      <th>sentence4</th>\n",
       "      <th>sentence5</th>\n",
       "      <th>sentence6</th>\n",
       "    </tr>\n",
       "  </thead>\n",
       "  <tbody>\n",
       "    <tr>\n",
       "      <th>sentence1</th>\n",
       "      <td>1.000000</td>\n",
       "      <td>0.124360</td>\n",
       "      <td>1.000000</td>\n",
       "      <td>0.087592</td>\n",
       "      <td>0.193683</td>\n",
       "      <td>0.179571</td>\n",
       "    </tr>\n",
       "    <tr>\n",
       "      <th>sentence2</th>\n",
       "      <td>0.124360</td>\n",
       "      <td>1.000000</td>\n",
       "      <td>0.124360</td>\n",
       "      <td>0.240646</td>\n",
       "      <td>0.030857</td>\n",
       "      <td>0.000000</td>\n",
       "    </tr>\n",
       "    <tr>\n",
       "      <th>sentence3</th>\n",
       "      <td>1.000000</td>\n",
       "      <td>0.124360</td>\n",
       "      <td>1.000000</td>\n",
       "      <td>0.087592</td>\n",
       "      <td>0.193683</td>\n",
       "      <td>0.179571</td>\n",
       "    </tr>\n",
       "    <tr>\n",
       "      <th>sentence4</th>\n",
       "      <td>0.087592</td>\n",
       "      <td>0.240646</td>\n",
       "      <td>0.087592</td>\n",
       "      <td>1.000000</td>\n",
       "      <td>0.118511</td>\n",
       "      <td>0.000000</td>\n",
       "    </tr>\n",
       "    <tr>\n",
       "      <th>sentence5</th>\n",
       "      <td>0.193683</td>\n",
       "      <td>0.030857</td>\n",
       "      <td>0.193683</td>\n",
       "      <td>0.118511</td>\n",
       "      <td>1.000000</td>\n",
       "      <td>0.401968</td>\n",
       "    </tr>\n",
       "    <tr>\n",
       "      <th>sentence6</th>\n",
       "      <td>0.179571</td>\n",
       "      <td>0.000000</td>\n",
       "      <td>0.179571</td>\n",
       "      <td>0.000000</td>\n",
       "      <td>0.401968</td>\n",
       "      <td>1.000000</td>\n",
       "    </tr>\n",
       "  </tbody>\n",
       "</table>\n",
       "</div>"
      ],
      "text/plain": [
       "           sentence1  sentence2  sentence3  sentence4  sentence5  sentence6\n",
       "sentence1   1.000000   0.124360   1.000000   0.087592   0.193683   0.179571\n",
       "sentence2   0.124360   1.000000   0.124360   0.240646   0.030857   0.000000\n",
       "sentence3   1.000000   0.124360   1.000000   0.087592   0.193683   0.179571\n",
       "sentence4   0.087592   0.240646   0.087592   1.000000   0.118511   0.000000\n",
       "sentence5   0.193683   0.030857   0.193683   0.118511   1.000000   0.401968\n",
       "sentence6   0.179571   0.000000   0.179571   0.000000   0.401968   1.000000"
      ]
     },
     "execution_count": 42,
     "metadata": {},
     "output_type": "execute_result"
    }
   ],
   "source": [
    "df"
   ]
  },
  {
   "cell_type": "code",
   "execution_count": null,
   "metadata": {},
   "outputs": [],
   "source": [
    "# CountVectorizer\n",
    "# TfiDFvectorizer\n",
    "# Transformer(bert)"
   ]
  },
  {
   "cell_type": "code",
   "execution_count": 1,
   "metadata": {},
   "outputs": [
    {
     "data": {
      "text/plain": [
       "'name,mask,weapon\\r\\nRaphael,red,sai\\r\\nDonatello,purple,bo staff\\r\\n'"
      ]
     },
     "execution_count": 1,
     "metadata": {},
     "output_type": "execute_result"
    }
   ],
   "source": [
    "import pandas as pd\n",
    "df = pd.DataFrame({'name': ['Raphael', 'Donatello'],\n",
    "                   'mask': ['red', 'purple'],\n",
    "                   'weapon': ['sai', 'bo staff']})\n",
    "df.to_csv(index=False)"
   ]
  }
 ],
 "metadata": {
  "interpreter": {
   "hash": "42ccb77e68fa229a19f64b354ffd1fbf4ae9eb85a648fc3c31b19a5f11b6d33f"
  },
  "kernelspec": {
   "display_name": "Python 3.9.9 64-bit",
   "language": "python",
   "name": "python3"
  },
  "language_info": {
   "codemirror_mode": {
    "name": "ipython",
    "version": 3
   },
   "file_extension": ".py",
   "mimetype": "text/x-python",
   "name": "python",
   "nbconvert_exporter": "python",
   "pygments_lexer": "ipython3",
   "version": "3.9.9"
  },
  "orig_nbformat": 4
 },
 "nbformat": 4,
 "nbformat_minor": 2
}
