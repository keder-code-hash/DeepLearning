{
  "cells": [
    {
      "cell_type": "code",
      "execution_count": 30,
      "metadata": {
        "id": "6p_G-sb259_F"
      },
      "outputs": [],
      "source": [
        "# CNN to recognize the handwritten digigt. CNN actually deals with features which are being extracted by CNN itself.\n",
        "from tensorflow import keras \n",
        "from keras.datasets import mnist\n",
        "from keras.models import load_model\n",
        "import numpy as np\n",
        "from keras.models import Sequential\n",
        "from keras.layers import Dense,Dropout,Flatten\n",
        "from keras.layers import Conv2D,MaxPool2D\n",
        "from keras import backend as K\n",
        "\n"
      ]
    },
    {
      "cell_type": "code",
      "execution_count": 31,
      "metadata": {
        "id": "7aqTwyaA-sfJ"
      },
      "outputs": [],
      "source": [
        "(x_train,y_train),(x_test,y_test)=mnist.load_data()\n",
        "# print(x_train[0])\n",
        "# no of training dataset\n",
        "trainDataSetNo=x_train.shape[0]\n",
        "testDataSetNo=x_test.shape[0]\n",
        "imageHeight=x_train.shape[1]\n",
        "imageWidth=x_train.shape[2]\n",
        "\n",
        "# reshape the whole data set as 4d\n",
        "\n",
        "x_train=x_train.reshape(trainDataSetNo,imageHeight,imageWidth,1)\n",
        "x_test=x_test.reshape(testDataSetNo,imageHeight,imageWidth,1)\n",
        "\n",
        "\n",
        "x_train=x_train.astype('float32')\n",
        "x_test=x_test.astype('float32')\n",
        "x_train/=255\n",
        "x_test/=255\n",
        "\n",
        "inputShape=(imageHeight,imageWidth,1)\n",
        "# print(x_train[0])\n",
        "\n",
        "\n",
        "\n"
      ]
    },
    {
      "cell_type": "code",
      "execution_count": 32,
      "metadata": {
        "id": "WIj3kLq-NQWn"
      },
      "outputs": [],
      "source": [
        "num_classes = 10\n",
        "y_train = keras.utils.to_categorical(y_train, num_classes)\n",
        "y_test = keras.utils.to_categorical(y_test, num_classes)"
      ]
    },
    {
      "cell_type": "code",
      "execution_count": 33,
      "metadata": {
        "id": "bQL3WzLyENQi"
      },
      "outputs": [],
      "source": [
        "# model preperation\n",
        "\n",
        "model=Sequential()\n",
        "model.add(Conv2D(32,kernel_size=(3,3),activation='relu',input_shape=inputShape))\n",
        "model.add(Conv2D(64,(3,3),activation='relu'))\n",
        "\n",
        "model.add(MaxPool2D(pool_size=(2,2)))\n",
        "\n",
        "# used to prevent overfitting\n",
        "model.add(Dropout(0.25))\n",
        "\n",
        "model.add(Flatten())\n",
        "\n",
        "model.add(Dense(128,activation='relu'))\n",
        "model.add(Dropout(0.5))\n",
        "model.add(Dense(10,activation='softmax'))\n",
        "# print(model.output_shape)"
      ]
    },
    {
      "cell_type": "code",
      "execution_count": 34,
      "metadata": {
        "id": "BwTKtCGXMYYe"
      },
      "outputs": [],
      "source": [
        "model.compile(loss=keras.losses.categorical_crossentropy,optimizer=keras.optimizers.Adadelta(),metrics=['accuracy'])"
      ]
    },
    {
      "cell_type": "code",
      "execution_count": 35,
      "metadata": {
        "colab": {
          "base_uri": "https://localhost:8080/"
        },
        "id": "ojf2PVeyOQpJ",
        "outputId": "ece40a50-34ab-4f5a-d35f-ffa9c0bbcee3"
      },
      "outputs": [
        {
          "name": "stdout",
          "output_type": "stream",
          "text": [
            "Epoch 1/12\n",
            "1875/1875 [==============================] - 66s 35ms/step - loss: 2.2611 - accuracy: 0.2131 - val_loss: 2.1983 - val_accuracy: 0.4403\n",
            "Epoch 2/12\n",
            "1875/1875 [==============================] - 65s 35ms/step - loss: 2.1297 - accuracy: 0.4015 - val_loss: 2.0017 - val_accuracy: 0.6188\n",
            "Epoch 3/12\n",
            "1875/1875 [==============================] - 68s 36ms/step - loss: 1.8821 - accuracy: 0.5240 - val_loss: 1.6467 - val_accuracy: 0.7063\n",
            "Epoch 4/12\n",
            "1875/1875 [==============================] - 67s 36ms/step - loss: 1.5323 - accuracy: 0.5998 - val_loss: 1.2276 - val_accuracy: 0.7592\n",
            "Epoch 5/12\n",
            "1875/1875 [==============================] - 68s 36ms/step - loss: 1.2239 - accuracy: 0.6524 - val_loss: 0.9228 - val_accuracy: 0.8088\n",
            "Epoch 6/12\n",
            "1875/1875 [==============================] - 68s 36ms/step - loss: 1.0224 - accuracy: 0.6954 - val_loss: 0.7438 - val_accuracy: 0.8327\n",
            "Epoch 7/12\n",
            "1875/1875 [==============================] - 69s 37ms/step - loss: 0.8936 - accuracy: 0.7255 - val_loss: 0.6386 - val_accuracy: 0.8470\n",
            "Epoch 8/12\n",
            "1875/1875 [==============================] - 68s 37ms/step - loss: 0.8073 - accuracy: 0.7492 - val_loss: 0.5695 - val_accuracy: 0.8574\n",
            "Epoch 9/12\n",
            "1875/1875 [==============================] - 67s 36ms/step - loss: 0.7488 - accuracy: 0.7674 - val_loss: 0.5218 - val_accuracy: 0.8652\n",
            "Epoch 10/12\n",
            "1875/1875 [==============================] - 67s 36ms/step - loss: 0.6991 - accuracy: 0.7825 - val_loss: 0.4857 - val_accuracy: 0.8697\n",
            "Epoch 11/12\n",
            "1875/1875 [==============================] - 67s 36ms/step - loss: 0.6626 - accuracy: 0.7927 - val_loss: 0.4577 - val_accuracy: 0.8776\n",
            "Epoch 12/12\n",
            "1875/1875 [==============================] - 67s 36ms/step - loss: 0.6324 - accuracy: 0.8033 - val_loss: 0.4349 - val_accuracy: 0.8831\n"
          ]
        },
        {
          "data": {
            "text/plain": [
              "<keras.callbacks.History at 0x21a83dfd3d0>"
            ]
          },
          "execution_count": 35,
          "metadata": {},
          "output_type": "execute_result"
        }
      ],
      "source": [
        "model.fit(x_train,y_train,batch_size=32,epochs=12,verbose=1,validation_data=(x_test,y_test))"
      ]
    },
    {
      "cell_type": "code",
      "execution_count": 39,
      "metadata": {
        "colab": {
          "base_uri": "https://localhost:8080/"
        },
        "id": "2NTvjoxCaa8T",
        "outputId": "1da9867b-7b0f-478d-9979-bab7592f5235"
      },
      "outputs": [
        {
          "name": "stdout",
          "output_type": "stream",
          "text": [
            "313/313 - 2s - loss: 0.4349 - accuracy: 0.8831 - 2s/epoch - 7ms/step\n",
            "[0.43488579988479614, 0.8830999732017517]\n"
          ]
        }
      ],
      "source": [
        "score=model.evaluate(x_test,y_test,verbose=2)\n",
        "print(score)"
      ]
    },
    {
      "cell_type": "code",
      "execution_count": 40,
      "metadata": {
        "id": "otOUgQj-huJ6"
      },
      "outputs": [],
      "source": [
        "model.save('digit_recog.h5')"
      ]
    },
    {
      "cell_type": "code",
      "execution_count": 41,
      "metadata": {},
      "outputs": [
        {
          "name": "stdout",
          "output_type": "stream",
          "text": [
            "[0. 1. 0. 0. 0. 0. 0. 0. 0. 0.]\n",
            "[4.5400906e-05 9.7079897e-01 1.1892508e-03 4.9854089e-03 8.0930733e-04\n",
            " 7.2174647e-04 3.1492980e-03 3.8496449e-03 6.6431523e-03 7.8076855e-03]\n"
          ]
        }
      ],
      "source": [
        "model=load_model('digit_recog.h5')\n",
        "print(y_test[345])\n",
        "# print(type(y_test[0]))\n",
        "print(model.predict(x_test)[345])"
      ]
    }
  ],
  "metadata": {
    "colab": {
      "collapsed_sections": [],
      "name": "digit_recognisition.ipynb",
      "provenance": []
    },
    "kernelspec": {
      "display_name": "Python 3",
      "name": "python3"
    },
    "language_info": {
      "codemirror_mode": {
        "name": "ipython",
        "version": 3
      },
      "file_extension": ".py",
      "mimetype": "text/x-python",
      "name": "python",
      "nbconvert_exporter": "python",
      "pygments_lexer": "ipython3",
      "version": "3.9.9"
    }
  },
  "nbformat": 4,
  "nbformat_minor": 0
}
