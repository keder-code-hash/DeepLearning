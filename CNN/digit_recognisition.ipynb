{
  "cells": [
    {
      "cell_type": "code",
      "execution_count": 3,
      "metadata": {
        "id": "6p_G-sb259_F"
      },
      "outputs": [],
      "source": [
        "# CNN to recognize the handwritten digigt. CNN actually deals with features which are being extracted by CNN itself.\n",
        "from tensorflow import keras \n",
        "from keras.datasets import mnist\n",
        "from keras.models import load_model\n",
        "import numpy as np\n",
        "from keras.models import Sequential\n",
        "from keras.layers import Dense,Dropout,Flatten\n",
        "from keras.layers import Conv2D,MaxPool2D\n",
        "from keras import backend as K\n",
        "\n"
      ]
    },
    {
      "cell_type": "code",
      "execution_count": 10,
      "metadata": {
        "id": "7aqTwyaA-sfJ"
      },
      "outputs": [
        {
          "name": "stdout",
          "output_type": "stream",
          "text": [
            "(60000, 28, 28)\n",
            "(60000, 28, 28, 1)\n",
            "(60000,)\n"
          ]
        }
      ],
      "source": [
        "(x_train,y_train),(x_test,y_test)=mnist.load_data()\n",
        "# print(x_train)\n",
        "print(x_train.shape)\n",
        "# no of training dataset\n",
        "trainDataSetNo=x_train.shape[0]\n",
        "testDataSetNo=x_test.shape[0]\n",
        "imageHeight=x_train.shape[1]\n",
        "imageWidth=x_train.shape[2]\n",
        "\n",
        "# reshape the whole data set as 4d\n",
        "\n",
        "x_train=x_train.reshape(trainDataSetNo,imageHeight,imageWidth,1)\n",
        "x_test=x_test.reshape(testDataSetNo,imageHeight,imageWidth,1)\n",
        "\n",
        "print(x_train.shape)\n",
        "print(y_train.shape)\n",
        "\n",
        "x_train=x_train.astype('float32')\n",
        "x_test=x_test.astype('float32')\n",
        "x_train/=255\n",
        "x_test/=255\n",
        "\n",
        "inputShape=(imageHeight,imageWidth,1)\n",
        "# print(x_train[0])\n",
        "\n"
      ]
    },
    {
      "cell_type": "code",
      "execution_count": 15,
      "metadata": {},
      "outputs": [
        {
          "name": "stdout",
          "output_type": "stream",
          "text": [
            "(11999, 28, 28, 1) (30000, 28, 28, 1)\n"
          ]
        }
      ],
      "source": [
        "# kaggle data filter\n",
        "import pandas as pd\n",
        "# skip the first row.\n",
        "data=pd.read_csv('train.csv',header=1)\n",
        "# y_train is in first col.and rest are(28*28)\n",
        "nd_arr=data.to_numpy()\n",
        "whole_test=nd_arr[:,0]\n",
        "whole_train_raw=nd_arr[:,1:]\n",
        "whole_train=whole_train_raw.reshape(41999,28,28,1)\n",
        "\n",
        "x_train,x_test=whole_train[0:30000],whole_test[0:30000]\n",
        "\n",
        "y_train,y_test=whole_train[30000:41999],whole_test[30000:41999]\n",
        "# x_test has \n",
        "# print(y_train.shape,x_train.shape)\n",
        "# print(x_train[0])"
      ]
    },
    {
      "cell_type": "code",
      "execution_count": 14,
      "metadata": {
        "id": "WIj3kLq-NQWn"
      },
      "outputs": [
        {
          "name": "stdout",
          "output_type": "stream",
          "text": [
            "[7 2 1 ... 4 5 6]\n"
          ]
        }
      ],
      "source": [
        "num_classes = 10\n",
        "print(y_test)\n",
        "y_train = keras.utils.to_categorical(y_train, num_classes)\n",
        "y_test = keras.utils.to_categorical(y_test, num_classes)  "
      ]
    },
    {
      "cell_type": "markdown",
      "metadata": {},
      "source": [
        "# lenet-5 architechture"
      ]
    },
    {
      "cell_type": "code",
      "execution_count": 6,
      "metadata": {
        "colab": {
          "base_uri": "https://localhost:8080/"
        },
        "id": "AYX-EsaR3bSa",
        "outputId": "e5c81b39-08a8-4ec6-8d10-23bf46f5b292"
      },
      "outputs": [
        {
          "name": "stdout",
          "output_type": "stream",
          "text": [
            "(None, 10)\n"
          ]
        }
      ],
      "source": [
        "# lenet architechture modelling.\n",
        "\n",
        "from keras.layers.pooling import AveragePooling2D\n",
        "\n",
        "# 1.input image 32*32*1\n",
        "model=Sequential()\n",
        "#2. convolution of size 28*28 and featured size of 6 stride 1 kernel 5*5 of activation tanh\n",
        "model.add(Conv2D(6,(5,5),(1,1),activation='tanh',padding='same',input_shape=(28,28,1)))\n",
        "#3. adding average pooling\n",
        "model.add(AveragePooling2D(strides=(1,1),pool_size=(2,2),padding='valid'))\n",
        "#4. adding a convolution layer\n",
        "model.add(Conv2D(16,(5,5),(1,1),activation='tanh',padding='valid'))\n",
        "#5. adding average pooling\n",
        "model.add(AveragePooling2D(strides=(1,1),pool_size=(2,2),padding='valid'))\n",
        "#6. last fully connceted convo layer of fm 120\n",
        "model.add(Conv2D(120,(5,5),(1,1),activation='tanh',padding='valid'))\n",
        "#7. add a flatten\n",
        "model.add(Flatten())\n",
        "#8.fully connceted of 84 units\n",
        "model.add(Dense(84,activation='tanh'))\n",
        "#9. last softmax for output probability\n",
        "model.add(Dense(10,activation='softmax'))\n",
        "\n",
        "print(model.output_shape)"
      ]
    },
    {
      "cell_type": "markdown",
      "metadata": {},
      "source": [
        "# normal_testing model"
      ]
    },
    {
      "cell_type": "code",
      "execution_count": null,
      "metadata": {
        "id": "bQL3WzLyENQi"
      },
      "outputs": [],
      "source": [
        "# normal model preperation\n",
        "\n",
        "model=Sequential()\n",
        "model.add(Conv2D(32,kernel_size=(3,3),activation='relu',input_shape=inputShape))\n",
        "model.add(Conv2D(64,(3,3),activation='relu'))\n",
        "\n",
        "model.add(MaxPool2D(pool_size=(2,2)))\n",
        "\n",
        "# used to prevent overfitting\n",
        "model.add(Dropout(0.25))\n",
        "\n",
        "model.add(Flatten())\n",
        "\n",
        "model.add(Dense(128,activation='relu'))\n",
        "model.add(Dropout(0.5))\n",
        "model.add(Dense(10,activation='softmax'))\n",
        "# print(model.output_shape)"
      ]
    },
    {
      "cell_type": "code",
      "execution_count": 7,
      "metadata": {
        "id": "BwTKtCGXMYYe"
      },
      "outputs": [],
      "source": [
        "model.compile(loss=keras.metrics.categorical_crossentropy, optimizer=keras.optimizers.Adam(), metrics=['accuracy'])"
      ]
    },
    {
      "cell_type": "code",
      "execution_count": 8,
      "metadata": {
        "colab": {
          "base_uri": "https://localhost:8080/",
          "height": 711
        },
        "id": "ojf2PVeyOQpJ",
        "outputId": "941ada01-9aae-4c84-b65d-3768ab93d07e"
      },
      "outputs": [
        {
          "name": "stdout",
          "output_type": "stream",
          "text": [
            "Epoch 1/20\n",
            "469/469 [==============================] - 65s 138ms/step - loss: 0.2836 - accuracy: 0.9189 - val_loss: 0.2072 - val_accuracy: 0.9440\n",
            "Epoch 2/20\n",
            "469/469 [==============================] - 64s 137ms/step - loss: 0.1968 - accuracy: 0.9419 - val_loss: 0.1955 - val_accuracy: 0.9457\n",
            "Epoch 3/20\n",
            "469/469 [==============================] - 64s 137ms/step - loss: 0.2072 - accuracy: 0.9388 - val_loss: 0.2078 - val_accuracy: 0.9406\n",
            "Epoch 4/20\n",
            "469/469 [==============================] - 64s 137ms/step - loss: 0.2133 - accuracy: 0.9365 - val_loss: 0.2032 - val_accuracy: 0.9386\n",
            "Epoch 5/20\n",
            "469/469 [==============================] - 63s 135ms/step - loss: 0.2108 - accuracy: 0.9373 - val_loss: 0.1963 - val_accuracy: 0.9411\n",
            "Epoch 6/20\n",
            "469/469 [==============================] - 63s 134ms/step - loss: 0.2081 - accuracy: 0.9361 - val_loss: 0.1927 - val_accuracy: 0.9437\n",
            "Epoch 7/20\n",
            "469/469 [==============================] - 63s 134ms/step - loss: 0.1930 - accuracy: 0.9417 - val_loss: 0.1791 - val_accuracy: 0.9452\n",
            "Epoch 8/20\n",
            "469/469 [==============================] - 63s 134ms/step - loss: 0.1853 - accuracy: 0.9439 - val_loss: 0.1657 - val_accuracy: 0.9493\n",
            "Epoch 9/20\n",
            "469/469 [==============================] - 62s 132ms/step - loss: 0.1908 - accuracy: 0.9428 - val_loss: 0.1851 - val_accuracy: 0.9452\n",
            "Epoch 10/20\n",
            "469/469 [==============================] - 62s 132ms/step - loss: 0.1812 - accuracy: 0.9450 - val_loss: 0.1684 - val_accuracy: 0.9500\n",
            "Epoch 11/20\n",
            "469/469 [==============================] - 65s 138ms/step - loss: 0.1723 - accuracy: 0.9477 - val_loss: 0.1667 - val_accuracy: 0.9483\n",
            "Epoch 12/20\n",
            "469/469 [==============================] - 62s 133ms/step - loss: 0.1682 - accuracy: 0.9488 - val_loss: 0.1554 - val_accuracy: 0.9517\n",
            "Epoch 13/20\n",
            "469/469 [==============================] - 62s 132ms/step - loss: 0.1628 - accuracy: 0.9496 - val_loss: 0.1608 - val_accuracy: 0.9522\n",
            "Epoch 14/20\n",
            "469/469 [==============================] - 62s 132ms/step - loss: 0.1627 - accuracy: 0.9502 - val_loss: 0.1617 - val_accuracy: 0.9513\n",
            "Epoch 15/20\n",
            "469/469 [==============================] - 62s 133ms/step - loss: 0.1543 - accuracy: 0.9532 - val_loss: 0.1484 - val_accuracy: 0.9545\n",
            "Epoch 16/20\n",
            "469/469 [==============================] - 62s 133ms/step - loss: 0.1517 - accuracy: 0.9528 - val_loss: 0.1425 - val_accuracy: 0.9577\n",
            "Epoch 17/20\n",
            "469/469 [==============================] - 62s 132ms/step - loss: 0.1528 - accuracy: 0.9535 - val_loss: 0.1491 - val_accuracy: 0.9546\n",
            "Epoch 18/20\n",
            "469/469 [==============================] - 63s 135ms/step - loss: 0.1562 - accuracy: 0.9518 - val_loss: 0.1480 - val_accuracy: 0.9549\n",
            "Epoch 19/20\n",
            "469/469 [==============================] - 61s 131ms/step - loss: 0.1505 - accuracy: 0.9542 - val_loss: 0.1391 - val_accuracy: 0.9566\n",
            "Epoch 20/20\n",
            "469/469 [==============================] - 66s 141ms/step - loss: 0.1323 - accuracy: 0.9597 - val_loss: 0.1457 - val_accuracy: 0.9538\n"
          ]
        },
        {
          "data": {
            "text/plain": [
              "<keras.callbacks.History at 0x1e2081833a0>"
            ]
          },
          "execution_count": 8,
          "metadata": {},
          "output_type": "execute_result"
        }
      ],
      "source": [
        "model.fit(x_train,y_train,batch_size=128,epochs=20,verbose=1,validation_data=(x_test,y_test))"
      ]
    },
    {
      "cell_type": "code",
      "execution_count": 9,
      "metadata": {
        "id": "2NTvjoxCaa8T"
      },
      "outputs": [
        {
          "name": "stdout",
          "output_type": "stream",
          "text": [
            "313/313 - 4s - loss: 0.1457 - accuracy: 0.9538 - 4s/epoch - 12ms/step\n",
            "[0.14566807448863983, 0.9538000226020813]\n"
          ]
        }
      ],
      "source": [
        "score=model.evaluate(x_test,y_test,verbose=2)\n",
        "print(score)"
      ]
    },
    {
      "cell_type": "code",
      "execution_count": 10,
      "metadata": {
        "id": "otOUgQj-huJ6"
      },
      "outputs": [],
      "source": [
        "model.save('digit_recog_lenet.h5')"
      ]
    },
    {
      "cell_type": "code",
      "execution_count": 16,
      "metadata": {
        "id": "3yeQ4I033bSd",
        "outputId": "faa46342-255f-4c30-ee4a-4731a67b60b6"
      },
      "outputs": [
        {
          "name": "stdout",
          "output_type": "stream",
          "text": [
            "[0. 0. 0. 1. 0. 0. 0. 0. 0. 0.]\n",
            "3\n"
          ]
        }
      ],
      "source": [
        "model=load_model('digit_recog_lenet.h5')\n",
        "print(y_test[349])\n",
        "# print(type(y_test[0]))\n",
        "res=model.predict(x_test)[349]\n",
        "print(np.argmax(res))"
      ]
    }
  ],
  "metadata": {
    "colab": {
      "collapsed_sections": [],
      "name": "digit_recognisition.ipynb",
      "provenance": []
    },
    "kernelspec": {
      "display_name": "Python 3",
      "name": "python3"
    },
    "language_info": {
      "codemirror_mode": {
        "name": "ipython",
        "version": 3
      },
      "file_extension": ".py",
      "mimetype": "text/x-python",
      "name": "python",
      "nbconvert_exporter": "python",
      "pygments_lexer": "ipython3",
      "version": "3.9.9"
    }
  },
  "nbformat": 4,
  "nbformat_minor": 0
}
