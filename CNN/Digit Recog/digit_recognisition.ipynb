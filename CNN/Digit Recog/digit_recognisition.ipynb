{
  "cells": [
    {
      "cell_type": "code",
      "execution_count": 1,
      "metadata": {
        "id": "6p_G-sb259_F"
      },
      "outputs": [],
      "source": [
        "# CNN to recognize the handwritten digigt. CNN actually deals with features which are being extracted by CNN itself.\n",
        "from tensorflow import keras \n",
        "from keras.datasets import mnist\n",
        "from keras.models import load_model\n",
        "import numpy as np\n",
        "from keras.models import Sequential\n",
        "from keras.layers import Dense,Dropout,Flatten\n",
        "from keras.layers import Conv2D,MaxPool2D\n",
        "from keras import backend as K\n",
        "\n"
      ]
    },
    {
      "cell_type": "code",
      "execution_count": 2,
      "metadata": {
        "id": "7aqTwyaA-sfJ"
      },
      "outputs": [
        {
          "name": "stdout",
          "output_type": "stream",
          "text": [
            "(60000, 28, 28, 1) (60000,) (10000, 28, 28, 1) (10000,)\n"
          ]
        }
      ],
      "source": [
        "# mnist data set\n",
        "\n",
        "(x_train,y_train),(x_test,y_test)=mnist.load_data()\n",
        "# print(x_train)\n",
        "# print(x_train.shape)\n",
        "# no of training dataset\n",
        "trainDataSetNo=x_train.shape[0]\n",
        "testDataSetNo=x_test.shape[0]\n",
        "imageHeight=x_train.shape[1]\n",
        "imageWidth=x_train.shape[2]\n",
        "\n",
        "# reshape the whole data set as 4d\n",
        "\n",
        "x_train=x_train.reshape(trainDataSetNo,imageHeight,imageWidth,1)\n",
        "x_test=x_test.reshape(testDataSetNo,imageHeight,imageWidth,1)\n",
        "\n",
        "#print(x_train.shape)\n",
        "#print(y_train.shape)\n",
        "\n",
        "x_train=x_train.astype('float32')\n",
        "x_test=x_test.astype('float32')\n",
        "x_train/=255\n",
        "x_test/=255\n",
        "\n",
        "print(x_train.shape,y_train.shape,x_test.shape,y_test.shape)\n",
        "inputShape=(imageHeight,imageWidth,1)\n",
        "# print(x_train[0])\n",
        "\n"
      ]
    },
    {
      "cell_type": "code",
      "execution_count": 18,
      "metadata": {},
      "outputs": [
        {
          "name": "stdout",
          "output_type": "stream",
          "text": [
            "(30000, 28, 28, 1) (30000,) (11999, 28, 28, 1) (11999,)\n"
          ]
        }
      ],
      "source": [
        "# kaggle data filter\n",
        "# kaggle data_set\n",
        "\n",
        "import pandas as pd\n",
        "# skip the first row.\n",
        "data=pd.read_csv('train.csv',header=1)\n",
        "# y_train is in first col.and rest are(28*28)\n",
        "nd_arr=data.to_numpy()\n",
        "whole_test=nd_arr[:,0]\n",
        "whole_train_raw=nd_arr[:,1:]\n",
        "whole_train=whole_train_raw.reshape(41999,28,28,1)\n",
        "\n",
        "x_train,x_test=whole_train[0:30000],whole_train[30000:41999]\n",
        "\n",
        "y_train,y_test=whole_test[0:30000],whole_test[30000:41999]\n",
        "\n",
        "x_train=x_train.astype('float32')\n",
        "x_test=x_test.astype('float32')\n",
        "x_train/=255\n",
        "x_test/=255\n",
        "# x_test has \n",
        "print(x_train.shape,y_train.shape,x_test.shape,y_test.shape)\n",
        "# print(x_train[0])"
      ]
    },
    {
      "cell_type": "code",
      "execution_count": 3,
      "metadata": {
        "id": "WIj3kLq-NQWn"
      },
      "outputs": [
        {
          "name": "stdout",
          "output_type": "stream",
          "text": [
            "[7 2 1 ... 4 5 6]\n"
          ]
        }
      ],
      "source": [
        "num_classes = 10\n",
        "print(y_test)\n",
        "y_train = keras.utils.to_categorical(y_train, num_classes)\n",
        "y_test = keras.utils.to_categorical(y_test, num_classes)  "
      ]
    },
    {
      "cell_type": "markdown",
      "metadata": {},
      "source": [
        "# lenet-5 architechture"
      ]
    },
    {
      "cell_type": "code",
      "execution_count": 2,
      "metadata": {
        "colab": {
          "base_uri": "https://localhost:8080/"
        },
        "id": "AYX-EsaR3bSa",
        "outputId": "e5c81b39-08a8-4ec6-8d10-23bf46f5b292"
      },
      "outputs": [
        {
          "name": "stdout",
          "output_type": "stream",
          "text": [
            "Model: \"sequential\"\n",
            "_________________________________________________________________\n",
            " Layer (type)                Output Shape              Param #   \n",
            "=================================================================\n",
            " conv2d (Conv2D)             (None, 28, 28, 6)         156       \n",
            "                                                                 \n",
            " average_pooling2d (AverageP  (None, 27, 27, 6)        0         \n",
            " ooling2D)                                                       \n",
            "                                                                 \n",
            " conv2d_1 (Conv2D)           (None, 23, 23, 16)        2416      \n",
            "                                                                 \n",
            " dropout (Dropout)           (None, 23, 23, 16)        0         \n",
            "                                                                 \n",
            " average_pooling2d_1 (Averag  (None, 22, 22, 16)       0         \n",
            " ePooling2D)                                                     \n",
            "                                                                 \n",
            " conv2d_2 (Conv2D)           (None, 18, 18, 120)       48120     \n",
            "                                                                 \n",
            " dropout_1 (Dropout)         (None, 18, 18, 120)       0         \n",
            "                                                                 \n",
            " flatten (Flatten)           (None, 38880)             0         \n",
            "                                                                 \n",
            " dense (Dense)               (None, 84)                3266004   \n",
            "                                                                 \n",
            " dense_1 (Dense)             (None, 10)                850       \n",
            "                                                                 \n",
            "=================================================================\n",
            "Total params: 3,317,546\n",
            "Trainable params: 3,317,546\n",
            "Non-trainable params: 0\n",
            "_________________________________________________________________\n"
          ]
        }
      ],
      "source": [
        "# lenet architechture modelling.\n",
        "\n",
        "from keras.layers.pooling import AveragePooling2D\n",
        "\n",
        "# 1.input image 32*32*1\n",
        "model=Sequential()\n",
        "#2. convolution of size 28*28 and featured size of 6 stride 1 kernel 5*5 of activation tanh\n",
        "model.add(Conv2D(6,(5,5),(1,1),activation='tanh',padding='same',input_shape=(28,28,1)))\n",
        "#3. adding average pooling\n",
        "model.add(AveragePooling2D(strides=(1,1),pool_size=(2,2),padding='valid'))\n",
        "\n",
        "#4. adding a convolution layer\n",
        "model.add(Conv2D(16,(5,5),(1,1),activation='tanh',padding='valid'))\n",
        "model.add(Dropout(0.05))\n",
        "#5. adding average pooling\n",
        "model.add(AveragePooling2D(strides=(1,1),pool_size=(2,2),padding='valid'))\n",
        "#6. last fully connceted convo layer of fm 120\n",
        "model.add(Conv2D(120,(5,5),(1,1),activation='tanh',padding='valid'))\n",
        "model.add(Dropout(0.05))\n",
        "#7. add a flatten\n",
        "model.add(Flatten())\n",
        "#8.fully connceted of 84 units\n",
        "model.add(Dense(84,activation='tanh'))\n",
        "#9. last softmax for output probability\n",
        "model.add(Dense(10,activation='softmax'))\n",
        "\n",
        "model.summary()"
      ]
    },
    {
      "cell_type": "markdown",
      "metadata": {},
      "source": [
        "# normal_testing model"
      ]
    },
    {
      "cell_type": "code",
      "execution_count": null,
      "metadata": {
        "id": "bQL3WzLyENQi"
      },
      "outputs": [],
      "source": [
        "# normal model preperation\n",
        "\n",
        "model=Sequential()\n",
        "model.add(Conv2D(32,kernel_size=(3,3),activation='relu',input_shape=inputShape))\n",
        "model.add(Conv2D(64,(3,3),activation='relu'))\n",
        "\n",
        "model.add(MaxPool2D(pool_size=(2,2)))\n",
        "\n",
        "# used to prevent overfitting\n",
        "model.add(Dropout(0.25))\n",
        "\n",
        "model.add(Flatten())\n",
        "\n",
        "model.add(Dense(128,activation='relu'))\n",
        "model.add(Dropout(0.5))\n",
        "model.add(Dense(10,activation='softmax'))\n",
        "# print(model.output_shape)"
      ]
    },
    {
      "cell_type": "code",
      "execution_count": 21,
      "metadata": {
        "id": "BwTKtCGXMYYe"
      },
      "outputs": [],
      "source": [
        "model.compile(loss=keras.metrics.categorical_crossentropy, optimizer=keras.optimizers.Adam(), metrics=['accuracy'])"
      ]
    },
    {
      "cell_type": "code",
      "execution_count": 22,
      "metadata": {
        "colab": {
          "base_uri": "https://localhost:8080/",
          "height": 711
        },
        "id": "ojf2PVeyOQpJ",
        "outputId": "941ada01-9aae-4c84-b65d-3768ab93d07e"
      },
      "outputs": [
        {
          "name": "stdout",
          "output_type": "stream",
          "text": [
            "Epoch 1/40\n",
            "469/469 [==============================] - 35s 75ms/step - loss: 0.3371 - accuracy: 0.9014 - val_loss: 0.2772 - val_accuracy: 0.9185\n",
            "Epoch 2/40\n",
            "469/469 [==============================] - 35s 75ms/step - loss: 0.2915 - accuracy: 0.9153 - val_loss: 0.3026 - val_accuracy: 0.9083\n",
            "Epoch 3/40\n",
            "469/469 [==============================] - 35s 76ms/step - loss: 0.2959 - accuracy: 0.9118 - val_loss: 0.3132 - val_accuracy: 0.9041\n",
            "Epoch 4/40\n",
            "469/469 [==============================] - 36s 76ms/step - loss: 0.2988 - accuracy: 0.9104 - val_loss: 0.2830 - val_accuracy: 0.9118\n",
            "Epoch 5/40\n",
            "469/469 [==============================] - 35s 75ms/step - loss: 0.2782 - accuracy: 0.9166 - val_loss: 0.2699 - val_accuracy: 0.9189\n",
            "Epoch 6/40\n",
            "469/469 [==============================] - 35s 75ms/step - loss: 0.2584 - accuracy: 0.9213 - val_loss: 0.2561 - val_accuracy: 0.9166\n",
            "Epoch 7/40\n",
            "469/469 [==============================] - 35s 75ms/step - loss: 0.2525 - accuracy: 0.9244 - val_loss: 0.2580 - val_accuracy: 0.9197\n",
            "Epoch 8/40\n",
            "469/469 [==============================] - 35s 75ms/step - loss: 0.2369 - accuracy: 0.9284 - val_loss: 0.2490 - val_accuracy: 0.9188\n",
            "Epoch 9/40\n",
            "469/469 [==============================] - 35s 75ms/step - loss: 0.2544 - accuracy: 0.9223 - val_loss: 0.2276 - val_accuracy: 0.9288\n",
            "Epoch 10/40\n",
            "469/469 [==============================] - 35s 75ms/step - loss: 0.2276 - accuracy: 0.9307 - val_loss: 0.2441 - val_accuracy: 0.9242\n",
            "Epoch 11/40\n",
            "469/469 [==============================] - 35s 75ms/step - loss: 0.2205 - accuracy: 0.9318 - val_loss: 0.2037 - val_accuracy: 0.9377\n",
            "Epoch 12/40\n",
            "469/469 [==============================] - 35s 76ms/step - loss: 0.2221 - accuracy: 0.9302 - val_loss: 0.2165 - val_accuracy: 0.9362\n",
            "Epoch 13/40\n",
            "469/469 [==============================] - 35s 75ms/step - loss: 0.2133 - accuracy: 0.9345 - val_loss: 0.2340 - val_accuracy: 0.9267\n",
            "Epoch 14/40\n",
            "469/469 [==============================] - 35s 75ms/step - loss: 0.2142 - accuracy: 0.9337 - val_loss: 0.1998 - val_accuracy: 0.9400\n",
            "Epoch 15/40\n",
            "469/469 [==============================] - 35s 75ms/step - loss: 0.1971 - accuracy: 0.9386 - val_loss: 0.2051 - val_accuracy: 0.9371\n",
            "Epoch 16/40\n",
            "469/469 [==============================] - 35s 75ms/step - loss: 0.1823 - accuracy: 0.9440 - val_loss: 0.1902 - val_accuracy: 0.9406\n",
            "Epoch 17/40\n",
            "469/469 [==============================] - 35s 75ms/step - loss: 0.1697 - accuracy: 0.9491 - val_loss: 0.1873 - val_accuracy: 0.9409\n",
            "Epoch 18/40\n",
            "469/469 [==============================] - 35s 75ms/step - loss: 0.1669 - accuracy: 0.9483 - val_loss: 0.1840 - val_accuracy: 0.9420\n",
            "Epoch 19/40\n",
            "469/469 [==============================] - 35s 75ms/step - loss: 0.1851 - accuracy: 0.9432 - val_loss: 0.2013 - val_accuracy: 0.9382\n",
            "Epoch 20/40\n",
            "469/469 [==============================] - 35s 75ms/step - loss: 0.1891 - accuracy: 0.9414 - val_loss: 0.2275 - val_accuracy: 0.9268\n",
            "Epoch 21/40\n",
            "469/469 [==============================] - 35s 75ms/step - loss: 0.1901 - accuracy: 0.9421 - val_loss: 0.1852 - val_accuracy: 0.9432\n",
            "Epoch 22/40\n",
            "469/469 [==============================] - 35s 74ms/step - loss: 0.1666 - accuracy: 0.9481 - val_loss: 0.1758 - val_accuracy: 0.9461\n",
            "Epoch 23/40\n",
            "469/469 [==============================] - 34s 73ms/step - loss: 0.1653 - accuracy: 0.9491 - val_loss: 0.1734 - val_accuracy: 0.9472\n",
            "Epoch 24/40\n",
            "469/469 [==============================] - 34s 73ms/step - loss: 0.1668 - accuracy: 0.9489 - val_loss: 0.1631 - val_accuracy: 0.9497\n",
            "Epoch 25/40\n",
            "469/469 [==============================] - 35s 74ms/step - loss: 0.1537 - accuracy: 0.9530 - val_loss: 0.1732 - val_accuracy: 0.9481\n",
            "Epoch 26/40\n",
            "469/469 [==============================] - 34s 73ms/step - loss: 0.1579 - accuracy: 0.9517 - val_loss: 0.1582 - val_accuracy: 0.9514\n",
            "Epoch 27/40\n",
            "469/469 [==============================] - 34s 73ms/step - loss: 0.1543 - accuracy: 0.9531 - val_loss: 0.1553 - val_accuracy: 0.9515\n",
            "Epoch 28/40\n",
            "469/469 [==============================] - 34s 73ms/step - loss: 0.1557 - accuracy: 0.9522 - val_loss: 0.1630 - val_accuracy: 0.9471\n",
            "Epoch 29/40\n",
            "469/469 [==============================] - 34s 73ms/step - loss: 0.1585 - accuracy: 0.9509 - val_loss: 0.1631 - val_accuracy: 0.9484\n",
            "Epoch 30/40\n",
            "469/469 [==============================] - 34s 73ms/step - loss: 0.1566 - accuracy: 0.9518 - val_loss: 0.1540 - val_accuracy: 0.9532\n",
            "Epoch 31/40\n",
            "469/469 [==============================] - 34s 73ms/step - loss: 0.1488 - accuracy: 0.9544 - val_loss: 0.1470 - val_accuracy: 0.9556\n",
            "Epoch 32/40\n",
            "469/469 [==============================] - 34s 73ms/step - loss: 0.1481 - accuracy: 0.9542 - val_loss: 0.1513 - val_accuracy: 0.9517\n",
            "Epoch 33/40\n",
            "469/469 [==============================] - 34s 73ms/step - loss: 0.1393 - accuracy: 0.9566 - val_loss: 0.1552 - val_accuracy: 0.9517\n",
            "Epoch 34/40\n",
            "469/469 [==============================] - 34s 73ms/step - loss: 0.1321 - accuracy: 0.9573 - val_loss: 0.1427 - val_accuracy: 0.9571\n",
            "Epoch 35/40\n",
            "469/469 [==============================] - 34s 73ms/step - loss: 0.1388 - accuracy: 0.9567 - val_loss: 0.1510 - val_accuracy: 0.9533\n",
            "Epoch 36/40\n",
            "469/469 [==============================] - 34s 73ms/step - loss: 0.1446 - accuracy: 0.9548 - val_loss: 0.1578 - val_accuracy: 0.9513\n",
            "Epoch 37/40\n",
            "469/469 [==============================] - 34s 73ms/step - loss: 0.1387 - accuracy: 0.9581 - val_loss: 0.1519 - val_accuracy: 0.9517\n",
            "Epoch 38/40\n",
            "469/469 [==============================] - 34s 73ms/step - loss: 0.1407 - accuracy: 0.9563 - val_loss: 0.1375 - val_accuracy: 0.9587\n",
            "Epoch 39/40\n",
            "469/469 [==============================] - 34s 73ms/step - loss: 0.1378 - accuracy: 0.9574 - val_loss: 0.1388 - val_accuracy: 0.9559\n",
            "Epoch 40/40\n",
            "469/469 [==============================] - 35s 75ms/step - loss: 0.1320 - accuracy: 0.9591 - val_loss: 0.1450 - val_accuracy: 0.9535\n"
          ]
        },
        {
          "data": {
            "text/plain": [
              "<keras.callbacks.History at 0x2308a878970>"
            ]
          },
          "execution_count": 22,
          "metadata": {},
          "output_type": "execute_result"
        }
      ],
      "source": [
        "model.fit(x_train,y_train,batch_size=64,epochs=40,verbose=1,validation_data=(x_test,y_test))"
      ]
    },
    {
      "cell_type": "code",
      "execution_count": 23,
      "metadata": {
        "id": "2NTvjoxCaa8T"
      },
      "outputs": [
        {
          "name": "stdout",
          "output_type": "stream",
          "text": [
            "375/375 - 3s - loss: 0.1450 - accuracy: 0.9535 - 3s/epoch - 8ms/step\n",
            "[0.14495298266410828, 0.9534960985183716]\n"
          ]
        }
      ],
      "source": [
        "score=model.evaluate(x_test,y_test,verbose=2)\n",
        "print(score)"
      ]
    },
    {
      "cell_type": "code",
      "execution_count": 24,
      "metadata": {
        "id": "otOUgQj-huJ6"
      },
      "outputs": [],
      "source": [
        "model.save('digit_recog_kaggle.h5')"
      ]
    },
    {
      "cell_type": "code",
      "execution_count": 30,
      "metadata": {
        "id": "3yeQ4I033bSd",
        "outputId": "faa46342-255f-4c30-ee4a-4731a67b60b6"
      },
      "outputs": [
        {
          "name": "stdout",
          "output_type": "stream",
          "text": [
            "[0. 0. 0. 0. 0. 0. 0. 0. 1. 0.]\n",
            "8\n"
          ]
        }
      ],
      "source": [
        "#normal prediction\n",
        "\n",
        "model=load_model('digit_recog_lenet.h5')\n",
        "print(y_test[349])\n",
        "# print(type(y_test[0]))\n",
        "res=model.predict(x_test)[349]\n",
        "print(np.argmax(res))"
      ]
    },
    {
      "cell_type": "code",
      "execution_count": 38,
      "metadata": {},
      "outputs": [
        {
          "name": "stdout",
          "output_type": "stream",
          "text": [
            "(28000, 784)\n"
          ]
        }
      ],
      "source": [
        "# kaggle submission\n",
        "\n",
        "import pandas as pd\n",
        "import csv\n",
        " \n",
        "data=pd.read_csv('test.csv',header=0) \n",
        "nd_arr=data.to_numpy()  \n",
        "print(nd_arr.shape)\n",
        "whole_test=nd_arr.reshape(28000,28,28,1)\n",
        "\n",
        "model=load_model('digit_recog_kaggle.h5')\n",
        "prediction=model.predict(whole_test)\n",
        "predictions=np.argmax(prediction,axis=1)\n",
        "#print(predictions)\n",
        "\n",
        "with open('submission.csv', 'w', newline='') as file:\n",
        "    fieldnames = ['ImageId', 'label']\n",
        "    writer = csv.DictWriter(file, fieldnames=fieldnames)\n",
        "\n",
        "    writer.writeheader()\n",
        "    i=0\n",
        "    while(i<28000):  \n",
        "        writer.writerow({'ImageId': i+1, 'label': predictions[i]}) \n",
        "        i+=1 \n"
      ]
    }
  ],
  "metadata": {
    "colab": {
      "collapsed_sections": [],
      "name": "digit_recognisition.ipynb",
      "provenance": []
    },
    "kernelspec": {
      "display_name": "Python 3",
      "name": "python3"
    },
    "language_info": {
      "codemirror_mode": {
        "name": "ipython",
        "version": 3
      },
      "file_extension": ".py",
      "mimetype": "text/x-python",
      "name": "python",
      "nbconvert_exporter": "python",
      "pygments_lexer": "ipython3",
      "version": "3.9.9"
    }
  },
  "nbformat": 4,
  "nbformat_minor": 0
}
